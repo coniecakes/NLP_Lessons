{
  "nbformat": 4,
  "nbformat_minor": 0,
  "metadata": {
    "colab": {
      "provenance": [],
      "authorship_tag": "ABX9TyM+/+qQZ0jmfMnVXO4M5ZqR",
      "include_colab_link": true
    },
    "kernelspec": {
      "name": "python3",
      "display_name": "Python 3"
    },
    "language_info": {
      "name": "python"
    }
  },
  "cells": [
    {
      "cell_type": "markdown",
      "metadata": {
        "id": "view-in-github",
        "colab_type": "text"
      },
      "source": [
        "<a href=\"https://colab.research.google.com/github/coniecakes/NLP_Lessons/blob/main/NLP_Class_1.ipynb\" target=\"_parent\"><img src=\"https://colab.research.google.com/assets/colab-badge.svg\" alt=\"Open In Colab\"/></a>"
      ]
    },
    {
      "cell_type": "code",
      "execution_count": 11,
      "metadata": {
        "colab": {
          "base_uri": "https://localhost:8080/"
        },
        "id": "YBm45p1bbvpb",
        "outputId": "399fd0f3-48a9-4ac0-f051-492acb1b72c6"
      },
      "outputs": [
        {
          "output_type": "stream",
          "name": "stdout",
          "text": [
            "Please enter an integer\n"
          ]
        },
        {
          "output_type": "execute_result",
          "data": {
            "text/plain": [
              "{3: 27}"
            ]
          },
          "metadata": {},
          "execution_count": 11
        }
      ],
      "source": [
        "my_dict = {}\n",
        "def cube_function(x):\n",
        "  if type(x) != int:\n",
        "    print(\"Please enter an integer\")\n",
        "    return None\n",
        "  else:\n",
        "    my_dict[x] = x**3\n",
        "  return my_dict\n",
        "\n",
        "cube_function(1/7)\n",
        "cube_function(3)"
      ]
    },
    {
      "cell_type": "code",
      "source": [
        "def cube_function_2(x):\n",
        "  my_dict_2 = {}\n",
        "  if type(x) != int:\n",
        "    print(\"Please enter an integer\")\n",
        "  for i in range(1, x+1):\n",
        "    my_dict_2[i] = i**3\n",
        "  return my_dict_2\n",
        "\n",
        "cube_function_2(3)"
      ],
      "metadata": {
        "colab": {
          "base_uri": "https://localhost:8080/"
        },
        "id": "QoeN93IYd_Iw",
        "outputId": "b1515e54-a31a-462f-ef92-d705248815bf"
      },
      "execution_count": 23,
      "outputs": [
        {
          "output_type": "execute_result",
          "data": {
            "text/plain": [
              "{1: 1, 2: 8, 3: 27}"
            ]
          },
          "metadata": {},
          "execution_count": 23
        }
      ]
    }
  ]
}